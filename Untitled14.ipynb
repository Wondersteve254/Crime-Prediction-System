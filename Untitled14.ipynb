{
  "cells": [
    {
      "cell_type": "code",
      "execution_count": 4,
      "metadata": {
        "colab": {
          "base_uri": "https://localhost:8080/"
        },
        "id": "TeqkW1bPUEwc",
        "outputId": "554d0765-19af-40d2-f514-cbfba6a87215"
      },
      "outputs": [
        {
          "name": "stdout",
          "output_type": "stream",
          "text": [
            "Missing Values:\n",
            " type of crime                    0\n",
            "Factors Contributing to Crime    0\n",
            "location                         0\n",
            "time of occurrence               0\n",
            "dtype: int64\n",
            "\n",
            "Duplicate Rows:\n",
            "    type of crime Factors Contributing to Crime      location  \\\n",
            "20         Theft                 Poor lighting   Nairobi CBD   \n",
            "21       Assault           Alcohol consumption       Mombasa   \n",
            "22       Robbery        High unemployment rate        Kisumu   \n",
            "23      Burglary      Lack of security systems        Nakuru   \n",
            "26  Drug-related          Easy access to drugs       Malindi   \n",
            "27      Homicide                 Gang violence        Kitale   \n",
            "28    Kidnapping       Lack of police presence         Thika   \n",
            "30         Theft    Unlocked doors and windows         Kisii   \n",
            "31       Assault            Verbal altercation  Nairobi West   \n",
            "32       Robbery       Lack of street lighting         Busia   \n",
            "33      Burglary  Empty houses during holidays         Nyeri   \n",
            "34     Vandalism            Youth unemployment        Nakuru   \n",
            "35         Fraud                Phishing scams       Mombasa   \n",
            "36  Drug-related       Disputed drug territory  Nairobi East   \n",
            "37      Homicide             Domestic disputes      Kakamega   \n",
            "38    Kidnapping        Child custody disputes  Nairobi West   \n",
            "39    Cybercrime      Unsecured Wi-Fi networks   Nairobi CBD   \n",
            "\n",
            "    time of occurrence  \n",
            "20 2024-03-27 20:00:00  \n",
            "21 2024-03-28 01:30:00  \n",
            "22 2024-03-29 18:45:00  \n",
            "23 2024-03-30 09:15:00  \n",
            "26 2024-04-02 22:30:00  \n",
            "27 2024-04-03 03:40:00  \n",
            "28 2024-04-04 07:55:00  \n",
            "30 2024-04-06 20:40:00  \n",
            "31 2024-04-07 23:15:00  \n",
            "32 2024-04-08 05:50:00  \n",
            "33 2024-04-09 10:05:00  \n",
            "34 2024-04-10 18:30:00  \n",
            "35 2024-04-11 12:20:00  \n",
            "36 2024-04-12 03:10:00  \n",
            "37 2024-04-13 08:45:00  \n",
            "38 2024-04-14 06:20:00  \n",
            "39 2024-04-15 15:55:00  \n",
            "\n",
            "Cleaned and Preprocessed Dataset:\n",
            "   type of crime    Factors Contributing to Crime      location  \\\n",
            "0          Theft                    Poor lighting   Nairobi CBD   \n",
            "1        Assault              Alcohol consumption       Mombasa   \n",
            "2        Robbery           High unemployment rate        Kisumu   \n",
            "3       Burglary         Lack of security systems        Nakuru   \n",
            "4     Vandalism                    Gang activity        Eldoret   \n",
            "5         Fraud                   Identity theft       Naivasha   \n",
            "6   Drug-related             Easy access to drugs       Malindi   \n",
            "7       Homicide                    Gang violence        Kitale   \n",
            "8     Kidnapping          Lack of police presence         Thika   \n",
            "9     Cybercrime     Poor cybersecurity measures       Machakos   \n",
            "10         Theft       Unlocked doors and windows         Kisii   \n",
            "11       Assault               Verbal altercation  Nairobi West   \n",
            "12       Robbery          Lack of street lighting         Busia   \n",
            "13      Burglary     Empty houses during holidays         Nyeri   \n",
            "14     Vandalism               Youth unemployment        Nakuru   \n",
            "15         Fraud                   Phishing scams       Mombasa   \n",
            "16  Drug-related          Disputed drug territory  Nairobi East   \n",
            "17      Homicide                Domestic disputes      Kakamega   \n",
            "18    Kidnapping           Child custody disputes  Nairobi West   \n",
            "19    Cybercrime         Unsecured Wi-Fi networks   Nairobi CBD   \n",
            "24     Vandalism                    Gang activity       Eldoret   \n",
            "25         Fraud                   Identity theft      Naivasha   \n",
            "29    Cybercrime      Poor cybersecurity measures      Machakos   \n",
            "40         Theft                    Poor lighting       Mombasa   \n",
            "41       Assault                        Bar fight       Eldoret   \n",
            "42       Robbery            Financial desperation   Nairobi CBD   \n",
            "43      Burglary                     Unemployment          Meru   \n",
            "44     Vandalism  Lack of recreational facilities        Kisumu   \n",
            "45         Fraud          Counterfeit goods trade  Nairobi East   \n",
            "46  Drug-related                     Gang rivalry       Mombasa   \n",
            "47      Homicide      Family inheritance disputes       Kericho   \n",
            "48    Kidnapping                  Organized crime          Embu   \n",
            "49    Cybercrime                      Data breach  Nairobi West   \n",
            "50         Theft             Unattended valuables   Nairobi CBD   \n",
            "51       Assault                         Jealousy      Kakamega   \n",
            "52       Robbery               Black market trade         Kisii   \n",
            "53      Burglary                 Foreclosed homes  Nairobi East   \n",
            "54     Vandalism               Political tensions   Nairobi CBD   \n",
            "\n",
            "    time of occurrence  year  month  day  hour  minute  \n",
            "0  2024-03-27 20:00:00  2024      3   27    20       0  \n",
            "1  2024-03-28 01:30:00  2024      3   28     1      30  \n",
            "2  2024-03-29 18:45:00  2024      3   29    18      45  \n",
            "3  2024-03-30 09:15:00  2024      3   30     9      15  \n",
            "4  2024-03-31 16:20:00  2024      3   31    16      20  \n",
            "5  2024-04-01 11:10:00  2024      4    1    11      10  \n",
            "6  2024-04-02 22:30:00  2024      4    2    22      30  \n",
            "7  2024-04-03 03:40:00  2024      4    3     3      40  \n",
            "8  2024-04-04 07:55:00  2024      4    4     7      55  \n",
            "9  2024-04-05 14:25:00  2024      4    5    14      25  \n",
            "10 2024-04-06 20:40:00  2024      4    6    20      40  \n",
            "11 2024-04-07 23:15:00  2024      4    7    23      15  \n",
            "12 2024-04-08 05:50:00  2024      4    8     5      50  \n",
            "13 2024-04-09 10:05:00  2024      4    9    10       5  \n",
            "14 2024-04-10 18:30:00  2024      4   10    18      30  \n",
            "15 2024-04-11 12:20:00  2024      4   11    12      20  \n",
            "16 2024-04-12 03:10:00  2024      4   12     3      10  \n",
            "17 2024-04-13 08:45:00  2024      4   13     8      45  \n",
            "18 2024-04-14 06:20:00  2024      4   14     6      20  \n",
            "19 2024-04-15 15:55:00  2024      4   15    15      55  \n",
            "24 2024-03-31 16:20:00  2024      3   31    16      20  \n",
            "25 2024-04-01 11:10:00  2024      4    1    11      10  \n",
            "29 2024-04-05 14:25:00  2024      4    5    14      25  \n",
            "40 2024-04-16 19:30:00  2024      4   16    19      30  \n",
            "41 2024-04-17 02:45:00  2024      4   17     2      45  \n",
            "42 2024-04-18 17:20:00  2024      4   18    17      20  \n",
            "43 2024-04-19 08:15:00  2024      4   19     8      15  \n",
            "44 2024-04-20 14:20:00  2024      4   20    14      20  \n",
            "45 2024-04-21 09:10:00  2024      4   21     9      10  \n",
            "46 2024-04-22 23:30:00  2024      4   22    23      30  \n",
            "47 2024-04-23 04:40:00  2024      4   23     4      40  \n",
            "48 2024-04-24 11:55:00  2024      4   24    11      55  \n",
            "49 2024-04-25 08:25:00  2024      4   25     8      25  \n",
            "50 2024-04-26 21:00:00  2024      4   26    21       0  \n",
            "51 2024-04-27 01:15:00  2024      4   27     1      15  \n",
            "52 2024-04-28 06:50:00  2024      4   28     6      50  \n",
            "53 2024-04-29 10:05:00  2024      4   29    10       5  \n",
            "54 2024-04-30 18:30:00  2024      4   30    18      30  \n"
          ]
        }
      ],
      "source": [
        "import pandas as pd\n",
        "\n",
        "# Load the dataset\n",
        "df = pd.read_excel('crime.xlsx')\n",
        "\n",
        "# Data Cleaning\n",
        "# Check for missing values\n",
        "print(\"Missing Values:\\n\", df.isnull().sum())\n",
        "\n",
        "# Check for duplicate entries\n",
        "duplicate_rows = df[df.duplicated()]\n",
        "print(\"\\nDuplicate Rows:\\n\", duplicate_rows)\n",
        "\n",
        "# Drop duplicate entries if any\n",
        "df.drop_duplicates(inplace=True)\n",
        "\n",
        "# Data Preprocessing\n",
        "# Convert 'time of occurrence' column to datetime format\n",
        "df['time of occurrence'] = pd.to_datetime(df['time of occurrence'])\n",
        "\n",
        "# Extract additional features from the datetime column if needed\n",
        "# For example, you can extract year, month, day, hour, minute, second\n",
        "df['year'] = df['time of occurrence'].dt.year\n",
        "df['month'] = df['time of occurrence'].dt.month\n",
        "df['day'] = df['time of occurrence'].dt.day\n",
        "df['hour'] = df['time of occurrence'].dt.hour\n",
        "df['minute'] = df['time of occurrence'].dt.minute\n",
        "\n",
        "# Final dataset\n",
        "print(\"\\nCleaned and Preprocessed Dataset:\")\n",
        "print(df)\n"
      ]
    },
    {
      "cell_type": "code",
      "execution_count": 5,
      "metadata": {
        "id": "6H3HWVtzUnjh"
      },
      "outputs": [],
      "source": [
        "# Load the dataset\n",
        "df = pd.read_excel('crime.xlsx')"
      ]
    },
    {
      "cell_type": "code",
      "execution_count": 6,
      "metadata": {
        "colab": {
          "base_uri": "https://localhost:8080/"
        },
        "id": "X_QKrT6KU2CI",
        "outputId": "9886a90b-c91e-4fc3-9afb-5cb6dc5a7e57"
      },
      "outputs": [
        {
          "name": "stdout",
          "output_type": "stream",
          "text": [
            "Missing Values:\n",
            " type of crime                    0\n",
            "Factors Contributing to Crime    0\n",
            "location                         0\n",
            "time of occurrence               0\n",
            "dtype: int64\n"
          ]
        }
      ],
      "source": [
        "# Data Cleaning\n",
        "# Check for missing values\n",
        "print(\"Missing Values:\\n\", df.isnull().sum())"
      ]
    },
    {
      "cell_type": "code",
      "execution_count": 7,
      "metadata": {
        "colab": {
          "base_uri": "https://localhost:8080/"
        },
        "id": "W012DXUjU9iR",
        "outputId": "98ed0266-bd7e-4fd4-baa2-0c148364e72c"
      },
      "outputs": [
        {
          "name": "stdout",
          "output_type": "stream",
          "text": [
            "\n",
            "Duplicate Rows:\n",
            "    type of crime Factors Contributing to Crime      location  \\\n",
            "20         Theft                 Poor lighting   Nairobi CBD   \n",
            "21       Assault           Alcohol consumption       Mombasa   \n",
            "22       Robbery        High unemployment rate        Kisumu   \n",
            "23      Burglary      Lack of security systems        Nakuru   \n",
            "26  Drug-related          Easy access to drugs       Malindi   \n",
            "27      Homicide                 Gang violence        Kitale   \n",
            "28    Kidnapping       Lack of police presence         Thika   \n",
            "30         Theft    Unlocked doors and windows         Kisii   \n",
            "31       Assault            Verbal altercation  Nairobi West   \n",
            "32       Robbery       Lack of street lighting         Busia   \n",
            "33      Burglary  Empty houses during holidays         Nyeri   \n",
            "34     Vandalism            Youth unemployment        Nakuru   \n",
            "35         Fraud                Phishing scams       Mombasa   \n",
            "36  Drug-related       Disputed drug territory  Nairobi East   \n",
            "37      Homicide             Domestic disputes      Kakamega   \n",
            "38    Kidnapping        Child custody disputes  Nairobi West   \n",
            "39    Cybercrime      Unsecured Wi-Fi networks   Nairobi CBD   \n",
            "\n",
            "    time of occurrence  \n",
            "20 2024-03-27 20:00:00  \n",
            "21 2024-03-28 01:30:00  \n",
            "22 2024-03-29 18:45:00  \n",
            "23 2024-03-30 09:15:00  \n",
            "26 2024-04-02 22:30:00  \n",
            "27 2024-04-03 03:40:00  \n",
            "28 2024-04-04 07:55:00  \n",
            "30 2024-04-06 20:40:00  \n",
            "31 2024-04-07 23:15:00  \n",
            "32 2024-04-08 05:50:00  \n",
            "33 2024-04-09 10:05:00  \n",
            "34 2024-04-10 18:30:00  \n",
            "35 2024-04-11 12:20:00  \n",
            "36 2024-04-12 03:10:00  \n",
            "37 2024-04-13 08:45:00  \n",
            "38 2024-04-14 06:20:00  \n",
            "39 2024-04-15 15:55:00  \n"
          ]
        }
      ],
      "source": [
        "# Check for duplicate entries\n",
        "duplicate_rows = df[df.duplicated()]\n",
        "print(\"\\nDuplicate Rows:\\n\", duplicate_rows)"
      ]
    },
    {
      "cell_type": "code",
      "execution_count": 8,
      "metadata": {
        "id": "ITY7HAx5VKWc"
      },
      "outputs": [],
      "source": [
        "# Convert 'time of occurrence' column to datetime format\n",
        "df['time of occurrence'] = pd.to_datetime(df['time of occurrence'])"
      ]
    },
    {
      "cell_type": "code",
      "execution_count": 9,
      "metadata": {
        "colab": {
          "base_uri": "https://localhost:8080/"
        },
        "id": "zBeVRcPiVT-1",
        "outputId": "1cbecdaa-6d05-4d7c-c72a-6e8e54f39be6"
      },
      "outputs": [
        {
          "name": "stdout",
          "output_type": "stream",
          "text": [
            "\n",
            "Cleaned and Preprocessed Dataset:\n",
            "   type of crime    Factors Contributing to Crime      location  \\\n",
            "0          Theft                    Poor lighting   Nairobi CBD   \n",
            "1        Assault              Alcohol consumption       Mombasa   \n",
            "2        Robbery           High unemployment rate        Kisumu   \n",
            "3       Burglary         Lack of security systems        Nakuru   \n",
            "4     Vandalism                    Gang activity        Eldoret   \n",
            "5         Fraud                   Identity theft       Naivasha   \n",
            "6   Drug-related             Easy access to drugs       Malindi   \n",
            "7       Homicide                    Gang violence        Kitale   \n",
            "8     Kidnapping          Lack of police presence         Thika   \n",
            "9     Cybercrime     Poor cybersecurity measures       Machakos   \n",
            "10         Theft       Unlocked doors and windows         Kisii   \n",
            "11       Assault               Verbal altercation  Nairobi West   \n",
            "12       Robbery          Lack of street lighting         Busia   \n",
            "13      Burglary     Empty houses during holidays         Nyeri   \n",
            "14     Vandalism               Youth unemployment        Nakuru   \n",
            "15         Fraud                   Phishing scams       Mombasa   \n",
            "16  Drug-related          Disputed drug territory  Nairobi East   \n",
            "17      Homicide                Domestic disputes      Kakamega   \n",
            "18    Kidnapping           Child custody disputes  Nairobi West   \n",
            "19    Cybercrime         Unsecured Wi-Fi networks   Nairobi CBD   \n",
            "20         Theft                    Poor lighting   Nairobi CBD   \n",
            "21       Assault              Alcohol consumption       Mombasa   \n",
            "22       Robbery           High unemployment rate        Kisumu   \n",
            "23      Burglary         Lack of security systems        Nakuru   \n",
            "24     Vandalism                    Gang activity       Eldoret   \n",
            "25         Fraud                   Identity theft      Naivasha   \n",
            "26  Drug-related             Easy access to drugs       Malindi   \n",
            "27      Homicide                    Gang violence        Kitale   \n",
            "28    Kidnapping          Lack of police presence         Thika   \n",
            "29    Cybercrime      Poor cybersecurity measures      Machakos   \n",
            "30         Theft       Unlocked doors and windows         Kisii   \n",
            "31       Assault               Verbal altercation  Nairobi West   \n",
            "32       Robbery          Lack of street lighting         Busia   \n",
            "33      Burglary     Empty houses during holidays         Nyeri   \n",
            "34     Vandalism               Youth unemployment        Nakuru   \n",
            "35         Fraud                   Phishing scams       Mombasa   \n",
            "36  Drug-related          Disputed drug territory  Nairobi East   \n",
            "37      Homicide                Domestic disputes      Kakamega   \n",
            "38    Kidnapping           Child custody disputes  Nairobi West   \n",
            "39    Cybercrime         Unsecured Wi-Fi networks   Nairobi CBD   \n",
            "40         Theft                    Poor lighting       Mombasa   \n",
            "41       Assault                        Bar fight       Eldoret   \n",
            "42       Robbery            Financial desperation   Nairobi CBD   \n",
            "43      Burglary                     Unemployment          Meru   \n",
            "44     Vandalism  Lack of recreational facilities        Kisumu   \n",
            "45         Fraud          Counterfeit goods trade  Nairobi East   \n",
            "46  Drug-related                     Gang rivalry       Mombasa   \n",
            "47      Homicide      Family inheritance disputes       Kericho   \n",
            "48    Kidnapping                  Organized crime          Embu   \n",
            "49    Cybercrime                      Data breach  Nairobi West   \n",
            "50         Theft             Unattended valuables   Nairobi CBD   \n",
            "51       Assault                         Jealousy      Kakamega   \n",
            "52       Robbery               Black market trade         Kisii   \n",
            "53      Burglary                 Foreclosed homes  Nairobi East   \n",
            "54     Vandalism               Political tensions   Nairobi CBD   \n",
            "\n",
            "    time of occurrence  year  month  day  hour  minute  \n",
            "0  2024-03-27 20:00:00  2024      3   27    20       0  \n",
            "1  2024-03-28 01:30:00  2024      3   28     1      30  \n",
            "2  2024-03-29 18:45:00  2024      3   29    18      45  \n",
            "3  2024-03-30 09:15:00  2024      3   30     9      15  \n",
            "4  2024-03-31 16:20:00  2024      3   31    16      20  \n",
            "5  2024-04-01 11:10:00  2024      4    1    11      10  \n",
            "6  2024-04-02 22:30:00  2024      4    2    22      30  \n",
            "7  2024-04-03 03:40:00  2024      4    3     3      40  \n",
            "8  2024-04-04 07:55:00  2024      4    4     7      55  \n",
            "9  2024-04-05 14:25:00  2024      4    5    14      25  \n",
            "10 2024-04-06 20:40:00  2024      4    6    20      40  \n",
            "11 2024-04-07 23:15:00  2024      4    7    23      15  \n",
            "12 2024-04-08 05:50:00  2024      4    8     5      50  \n",
            "13 2024-04-09 10:05:00  2024      4    9    10       5  \n",
            "14 2024-04-10 18:30:00  2024      4   10    18      30  \n",
            "15 2024-04-11 12:20:00  2024      4   11    12      20  \n",
            "16 2024-04-12 03:10:00  2024      4   12     3      10  \n",
            "17 2024-04-13 08:45:00  2024      4   13     8      45  \n",
            "18 2024-04-14 06:20:00  2024      4   14     6      20  \n",
            "19 2024-04-15 15:55:00  2024      4   15    15      55  \n",
            "20 2024-03-27 20:00:00  2024      3   27    20       0  \n",
            "21 2024-03-28 01:30:00  2024      3   28     1      30  \n",
            "22 2024-03-29 18:45:00  2024      3   29    18      45  \n",
            "23 2024-03-30 09:15:00  2024      3   30     9      15  \n",
            "24 2024-03-31 16:20:00  2024      3   31    16      20  \n",
            "25 2024-04-01 11:10:00  2024      4    1    11      10  \n",
            "26 2024-04-02 22:30:00  2024      4    2    22      30  \n",
            "27 2024-04-03 03:40:00  2024      4    3     3      40  \n",
            "28 2024-04-04 07:55:00  2024      4    4     7      55  \n",
            "29 2024-04-05 14:25:00  2024      4    5    14      25  \n",
            "30 2024-04-06 20:40:00  2024      4    6    20      40  \n",
            "31 2024-04-07 23:15:00  2024      4    7    23      15  \n",
            "32 2024-04-08 05:50:00  2024      4    8     5      50  \n",
            "33 2024-04-09 10:05:00  2024      4    9    10       5  \n",
            "34 2024-04-10 18:30:00  2024      4   10    18      30  \n",
            "35 2024-04-11 12:20:00  2024      4   11    12      20  \n",
            "36 2024-04-12 03:10:00  2024      4   12     3      10  \n",
            "37 2024-04-13 08:45:00  2024      4   13     8      45  \n",
            "38 2024-04-14 06:20:00  2024      4   14     6      20  \n",
            "39 2024-04-15 15:55:00  2024      4   15    15      55  \n",
            "40 2024-04-16 19:30:00  2024      4   16    19      30  \n",
            "41 2024-04-17 02:45:00  2024      4   17     2      45  \n",
            "42 2024-04-18 17:20:00  2024      4   18    17      20  \n",
            "43 2024-04-19 08:15:00  2024      4   19     8      15  \n",
            "44 2024-04-20 14:20:00  2024      4   20    14      20  \n",
            "45 2024-04-21 09:10:00  2024      4   21     9      10  \n",
            "46 2024-04-22 23:30:00  2024      4   22    23      30  \n",
            "47 2024-04-23 04:40:00  2024      4   23     4      40  \n",
            "48 2024-04-24 11:55:00  2024      4   24    11      55  \n",
            "49 2024-04-25 08:25:00  2024      4   25     8      25  \n",
            "50 2024-04-26 21:00:00  2024      4   26    21       0  \n",
            "51 2024-04-27 01:15:00  2024      4   27     1      15  \n",
            "52 2024-04-28 06:50:00  2024      4   28     6      50  \n",
            "53 2024-04-29 10:05:00  2024      4   29    10       5  \n",
            "54 2024-04-30 18:30:00  2024      4   30    18      30  \n"
          ]
        }
      ],
      "source": [
        "# For example, you can extract year, month, day, hour, minute, second\n",
        "df['year'] = df['time of occurrence'].dt.year\n",
        "df['month'] = df['time of occurrence'].dt.month\n",
        "df['day'] = df['time of occurrence'].dt.day\n",
        "df['hour'] = df['time of occurrence'].dt.hour\n",
        "df['minute'] = df['time of occurrence'].dt.minute\n",
        "\n",
        "# Final dataset\n",
        "print(\"\\nCleaned and Preprocessed Dataset:\")\n",
        "print(df)"
      ]
    },
    {
      "cell_type": "code",
      "execution_count": 10,
      "metadata": {
        "colab": {
          "base_uri": "https://localhost:8080/",
          "height": 310
        },
        "id": "UXgVNMFIV7sl",
        "outputId": "bfd516bb-f657-4f8c-be24-13639ba76223"
      },
      "outputs": [
        {
          "data": {
            "text/html": [
              "<div>\n",
              "<style scoped>\n",
              "    .dataframe tbody tr th:only-of-type {\n",
              "        vertical-align: middle;\n",
              "    }\n",
              "\n",
              "    .dataframe tbody tr th {\n",
              "        vertical-align: top;\n",
              "    }\n",
              "\n",
              "    .dataframe thead th {\n",
              "        text-align: right;\n",
              "    }\n",
              "</style>\n",
              "<table border=\"1\" class=\"dataframe\">\n",
              "  <thead>\n",
              "    <tr style=\"text-align: right;\">\n",
              "      <th></th>\n",
              "      <th>type of crime</th>\n",
              "      <th>Factors Contributing to Crime</th>\n",
              "      <th>location</th>\n",
              "      <th>time of occurrence</th>\n",
              "      <th>year</th>\n",
              "      <th>month</th>\n",
              "      <th>day</th>\n",
              "      <th>hour</th>\n",
              "      <th>minute</th>\n",
              "    </tr>\n",
              "  </thead>\n",
              "  <tbody>\n",
              "    <tr>\n",
              "      <th>0</th>\n",
              "      <td>Theft</td>\n",
              "      <td>Poor lighting</td>\n",
              "      <td>Nairobi CBD</td>\n",
              "      <td>2024-03-27 20:00:00</td>\n",
              "      <td>2024</td>\n",
              "      <td>3</td>\n",
              "      <td>27</td>\n",
              "      <td>20</td>\n",
              "      <td>0</td>\n",
              "    </tr>\n",
              "    <tr>\n",
              "      <th>1</th>\n",
              "      <td>Assault</td>\n",
              "      <td>Alcohol consumption</td>\n",
              "      <td>Mombasa</td>\n",
              "      <td>2024-03-28 01:30:00</td>\n",
              "      <td>2024</td>\n",
              "      <td>3</td>\n",
              "      <td>28</td>\n",
              "      <td>1</td>\n",
              "      <td>30</td>\n",
              "    </tr>\n",
              "    <tr>\n",
              "      <th>2</th>\n",
              "      <td>Robbery</td>\n",
              "      <td>High unemployment rate</td>\n",
              "      <td>Kisumu</td>\n",
              "      <td>2024-03-29 18:45:00</td>\n",
              "      <td>2024</td>\n",
              "      <td>3</td>\n",
              "      <td>29</td>\n",
              "      <td>18</td>\n",
              "      <td>45</td>\n",
              "    </tr>\n",
              "    <tr>\n",
              "      <th>3</th>\n",
              "      <td>Burglary</td>\n",
              "      <td>Lack of security systems</td>\n",
              "      <td>Nakuru</td>\n",
              "      <td>2024-03-30 09:15:00</td>\n",
              "      <td>2024</td>\n",
              "      <td>3</td>\n",
              "      <td>30</td>\n",
              "      <td>9</td>\n",
              "      <td>15</td>\n",
              "    </tr>\n",
              "    <tr>\n",
              "      <th>4</th>\n",
              "      <td>Vandalism</td>\n",
              "      <td>Gang activity</td>\n",
              "      <td>Eldoret</td>\n",
              "      <td>2024-03-31 16:20:00</td>\n",
              "      <td>2024</td>\n",
              "      <td>3</td>\n",
              "      <td>31</td>\n",
              "      <td>16</td>\n",
              "      <td>20</td>\n",
              "    </tr>\n",
              "  </tbody>\n",
              "</table>\n",
              "</div>"
            ],
            "text/plain": [
              "  type of crime Factors Contributing to Crime     location  \\\n",
              "0         Theft                 Poor lighting  Nairobi CBD   \n",
              "1       Assault           Alcohol consumption      Mombasa   \n",
              "2       Robbery        High unemployment rate       Kisumu   \n",
              "3      Burglary      Lack of security systems       Nakuru   \n",
              "4    Vandalism                 Gang activity       Eldoret   \n",
              "\n",
              "   time of occurrence  year  month  day  hour  minute  \n",
              "0 2024-03-27 20:00:00  2024      3   27    20       0  \n",
              "1 2024-03-28 01:30:00  2024      3   28     1      30  \n",
              "2 2024-03-29 18:45:00  2024      3   29    18      45  \n",
              "3 2024-03-30 09:15:00  2024      3   30     9      15  \n",
              "4 2024-03-31 16:20:00  2024      3   31    16      20  "
            ]
          },
          "execution_count": 10,
          "metadata": {},
          "output_type": "execute_result"
        }
      ],
      "source": [
        "df.head()"
      ]
    },
    {
      "cell_type": "code",
      "execution_count": 11,
      "metadata": {
        "colab": {
          "base_uri": "https://localhost:8080/"
        },
        "id": "TX-nLvT0VteF",
        "outputId": "b6ab3f6b-f6bc-4935-cdc4-4b24e5cf5340"
      },
      "outputs": [
        {
          "name": "stdout",
          "output_type": "stream",
          "text": [
            "\n",
            "Dataset with Non-numerical columns converted to Numerical:\n",
            "    type of crime  Factors Contributing to Crime  location  \\\n",
            "0               9                             30        12   \n",
            "1               0                              0        11   \n",
            "2               8                             17         6   \n",
            "3               1                             23        16   \n",
            "4              11                             14         1   \n",
            "5               5                             19        15   \n",
            "6               3                              8         9   \n",
            "7               6                             16         7   \n",
            "8               7                             21        18   \n",
            "9               2                             29         8   \n",
            "10              9                             33         5   \n",
            "11              0                             35        14   \n",
            "12              8                             24         0   \n",
            "13              1                              9        17   \n",
            "14             10                             36        16   \n",
            "15              4                             26        11   \n",
            "16              3                              6        13   \n",
            "17              6                              7         3   \n",
            "18              7                              3        14   \n",
            "19              2                             34        12   \n",
            "20              9                             30        12   \n",
            "21              0                              0        11   \n",
            "22              8                             17         6   \n",
            "23              1                             23        16   \n",
            "24             10                             13         1   \n",
            "25              4                             18        15   \n",
            "26              3                              8         9   \n",
            "27              6                             16         7   \n",
            "28              7                             21        18   \n",
            "29              2                             28         8   \n",
            "30              9                             33         5   \n",
            "31              0                             35        14   \n",
            "32              8                             24         0   \n",
            "33              1                              9        17   \n",
            "34             10                             36        16   \n",
            "35              4                             26        11   \n",
            "36              3                              6        13   \n",
            "37              6                              7         3   \n",
            "38              7                              3        14   \n",
            "39              2                             34        12   \n",
            "40              9                             30        11   \n",
            "41              0                              1         1   \n",
            "42              8                             11        12   \n",
            "43              1                             32        10   \n",
            "44             10                             22         6   \n",
            "45              4                              4        13   \n",
            "46              3                             15        11   \n",
            "47              6                             10         4   \n",
            "48              7                             25         2   \n",
            "49              2                              5        14   \n",
            "50              9                             31        12   \n",
            "51              0                             20         3   \n",
            "52              8                              2         5   \n",
            "53              1                             12        13   \n",
            "54             10                             27        12   \n",
            "\n",
            "    time of occurrence  year  month  day  hour  minute  \n",
            "0  2024-03-27 20:00:00  2024      3   27    20       0  \n",
            "1  2024-03-28 01:30:00  2024      3   28     1      30  \n",
            "2  2024-03-29 18:45:00  2024      3   29    18      45  \n",
            "3  2024-03-30 09:15:00  2024      3   30     9      15  \n",
            "4  2024-03-31 16:20:00  2024      3   31    16      20  \n",
            "5  2024-04-01 11:10:00  2024      4    1    11      10  \n",
            "6  2024-04-02 22:30:00  2024      4    2    22      30  \n",
            "7  2024-04-03 03:40:00  2024      4    3     3      40  \n",
            "8  2024-04-04 07:55:00  2024      4    4     7      55  \n",
            "9  2024-04-05 14:25:00  2024      4    5    14      25  \n",
            "10 2024-04-06 20:40:00  2024      4    6    20      40  \n",
            "11 2024-04-07 23:15:00  2024      4    7    23      15  \n",
            "12 2024-04-08 05:50:00  2024      4    8     5      50  \n",
            "13 2024-04-09 10:05:00  2024      4    9    10       5  \n",
            "14 2024-04-10 18:30:00  2024      4   10    18      30  \n",
            "15 2024-04-11 12:20:00  2024      4   11    12      20  \n",
            "16 2024-04-12 03:10:00  2024      4   12     3      10  \n",
            "17 2024-04-13 08:45:00  2024      4   13     8      45  \n",
            "18 2024-04-14 06:20:00  2024      4   14     6      20  \n",
            "19 2024-04-15 15:55:00  2024      4   15    15      55  \n",
            "20 2024-03-27 20:00:00  2024      3   27    20       0  \n",
            "21 2024-03-28 01:30:00  2024      3   28     1      30  \n",
            "22 2024-03-29 18:45:00  2024      3   29    18      45  \n",
            "23 2024-03-30 09:15:00  2024      3   30     9      15  \n",
            "24 2024-03-31 16:20:00  2024      3   31    16      20  \n",
            "25 2024-04-01 11:10:00  2024      4    1    11      10  \n",
            "26 2024-04-02 22:30:00  2024      4    2    22      30  \n",
            "27 2024-04-03 03:40:00  2024      4    3     3      40  \n",
            "28 2024-04-04 07:55:00  2024      4    4     7      55  \n",
            "29 2024-04-05 14:25:00  2024      4    5    14      25  \n",
            "30 2024-04-06 20:40:00  2024      4    6    20      40  \n",
            "31 2024-04-07 23:15:00  2024      4    7    23      15  \n",
            "32 2024-04-08 05:50:00  2024      4    8     5      50  \n",
            "33 2024-04-09 10:05:00  2024      4    9    10       5  \n",
            "34 2024-04-10 18:30:00  2024      4   10    18      30  \n",
            "35 2024-04-11 12:20:00  2024      4   11    12      20  \n",
            "36 2024-04-12 03:10:00  2024      4   12     3      10  \n",
            "37 2024-04-13 08:45:00  2024      4   13     8      45  \n",
            "38 2024-04-14 06:20:00  2024      4   14     6      20  \n",
            "39 2024-04-15 15:55:00  2024      4   15    15      55  \n",
            "40 2024-04-16 19:30:00  2024      4   16    19      30  \n",
            "41 2024-04-17 02:45:00  2024      4   17     2      45  \n",
            "42 2024-04-18 17:20:00  2024      4   18    17      20  \n",
            "43 2024-04-19 08:15:00  2024      4   19     8      15  \n",
            "44 2024-04-20 14:20:00  2024      4   20    14      20  \n",
            "45 2024-04-21 09:10:00  2024      4   21     9      10  \n",
            "46 2024-04-22 23:30:00  2024      4   22    23      30  \n",
            "47 2024-04-23 04:40:00  2024      4   23     4      40  \n",
            "48 2024-04-24 11:55:00  2024      4   24    11      55  \n",
            "49 2024-04-25 08:25:00  2024      4   25     8      25  \n",
            "50 2024-04-26 21:00:00  2024      4   26    21       0  \n",
            "51 2024-04-27 01:15:00  2024      4   27     1      15  \n",
            "52 2024-04-28 06:50:00  2024      4   28     6      50  \n",
            "53 2024-04-29 10:05:00  2024      4   29    10       5  \n",
            "54 2024-04-30 18:30:00  2024      4   30    18      30  \n"
          ]
        }
      ],
      "source": [
        "from sklearn.preprocessing import LabelEncoder\n",
        "\n",
        "# Initialize LabelEncoder\n",
        "label_encoder = LabelEncoder()\n",
        "\n",
        "# Convert non-numerical columns to numerical\n",
        "non_numerical_columns = ['type of crime', 'Factors Contributing to Crime', 'location']\n",
        "for column in non_numerical_columns:\n",
        "    df[column] = label_encoder.fit_transform(df[column])\n",
        "\n",
        "# Display the updated dataset\n",
        "print(\"\\nDataset with Non-numerical columns converted to Numerical:\")\n",
        "print(df)\n"
      ]
    },
    {
      "cell_type": "code",
      "execution_count": 12,
      "metadata": {
        "id": "EevRx2aQXeyR"
      },
      "outputs": [],
      "source": [
        "from sklearn.model_selection import train_test_split\n",
        "from sklearn.ensemble import RandomForestClassifier\n",
        "from sklearn.metrics import accuracy_score, classification_report\n",
        "import joblib"
      ]
    },
    {
      "cell_type": "code",
      "execution_count": 13,
      "metadata": {
        "id": "PdglMaf7XrUU"
      },
      "outputs": [],
      "source": [
        "# Define features and target variable\n",
        "X = df[['Factors Contributing to Crime', 'location', 'time of occurrence']]\n",
        "y = df['type of crime']\n"
      ]
    },
    {
      "cell_type": "code",
      "execution_count": 14,
      "metadata": {
        "id": "G4Hh1j_kX8zR"
      },
      "outputs": [],
      "source": [
        "# Split data into training and testing sets\n",
        "X_train, X_test, y_train, y_test = train_test_split(X, y, test_size=0.2, random_state=42)\n"
      ]
    },
    {
      "cell_type": "code",
      "execution_count": 15,
      "metadata": {
        "id": "SSZsXb3KY2Qk"
      },
      "outputs": [],
      "source": [
        "from sklearn.preprocessing import LabelEncoder\n",
        "\n",
        "# Convert datetime column to numerical features\n",
        "X_train['year'] = X_train['time of occurrence'].dt.year\n",
        "X_train['month'] = X_train['time of occurrence'].dt.month\n",
        "X_train['day'] = X_train['time of occurrence'].dt.day\n",
        "X_train['hour'] = X_train['time of occurrence'].dt.hour\n",
        "X_train['minute'] = X_train['time of occurrence'].dt.minute\n",
        "\n",
        "# Drop the original datetime column\n",
        "X_train.drop(columns=['time of occurrence'], inplace=True)"
      ]
    },
    {
      "cell_type": "code",
      "execution_count": 16,
      "metadata": {
        "colab": {
          "base_uri": "https://localhost:8080/"
        },
        "id": "s3TkfINPflye",
        "outputId": "dc130b72-e519-433c-a4de-c6e234842645"
      },
      "outputs": [
        {
          "name": "stdout",
          "output_type": "stream",
          "text": [
            "Collecting imbalanced-learn\n",
            "  Downloading imbalanced_learn-0.12.0-py3-none-any.whl.metadata (8.2 kB)\n",
            "Requirement already satisfied: numpy>=1.17.3 in c:\\users\\user\\appdata\\local\\programs\\python\\python311\\lib\\site-packages (from imbalanced-learn) (1.26.4)\n",
            "Requirement already satisfied: scipy>=1.5.0 in c:\\users\\user\\appdata\\local\\programs\\python\\python311\\lib\\site-packages (from imbalanced-learn) (1.12.0)\n",
            "Requirement already satisfied: scikit-learn>=1.0.2 in c:\\users\\user\\appdata\\local\\programs\\python\\python311\\lib\\site-packages (from imbalanced-learn) (1.2.2)\n",
            "Requirement already satisfied: joblib>=1.1.1 in c:\\users\\user\\appdata\\local\\programs\\python\\python311\\lib\\site-packages (from imbalanced-learn) (1.3.2)\n",
            "Requirement already satisfied: threadpoolctl>=2.0.0 in c:\\users\\user\\appdata\\local\\programs\\python\\python311\\lib\\site-packages (from imbalanced-learn) (3.4.0)\n",
            "Downloading imbalanced_learn-0.12.0-py3-none-any.whl (257 kB)\n",
            "   ---------------------------------------- 0.0/257.7 kB ? eta -:--:--\n",
            "   ---------------------------------------  256.0/257.7 kB 2.3 MB/s eta 0:00:01\n",
            "   ---------------------------------------  256.0/257.7 kB 2.3 MB/s eta 0:00:01\n",
            "   -------------------------------------- 257.7/257.7 kB 182.1 kB/s eta 0:00:00\n",
            "Installing collected packages: imbalanced-learn\n",
            "Successfully installed imbalanced-learn-0.12.0\n",
            "Note: you may need to restart the kernel to use updated packages.\n"
          ]
        }
      ],
      "source": [
        "pip install -U imbalanced-learn"
      ]
    },
    {
      "cell_type": "code",
      "execution_count": 17,
      "metadata": {
        "colab": {
          "base_uri": "https://localhost:8080/"
        },
        "id": "81_7jalIgMUL",
        "outputId": "773e0d5a-3db6-478c-cdf0-540313dfbebe"
      },
      "outputs": [
        {
          "name": "stdout",
          "output_type": "stream",
          "text": [
            "type of crime                             int32\n",
            "Factors Contributing to Crime             int32\n",
            "location                                  int32\n",
            "time of occurrence               datetime64[ns]\n",
            "year                                      int32\n",
            "month                                     int32\n",
            "day                                       int32\n",
            "hour                                      int32\n",
            "minute                                    int32\n",
            "dtype: object\n"
          ]
        }
      ],
      "source": [
        "import pandas as pd\n",
        "\n",
        "# Check the data types of each column in the DataFrame\n",
        "print(df.dtypes)\n",
        "\n",
        "# Convert DateTime columns to appropriate types (if needed)\n",
        "# For example, if 'time of occurrence' is a datetime column:\n",
        "df['time of occurrence'] = pd.to_datetime(df['time of occurrence'])\n",
        "\n",
        "# Convert categorical columns to appropriate types (if needed)\n",
        "# For example, if 'type of crime' is a categorical column:\n",
        "df['type of crime'] = df['type of crime'].astype('category')\n",
        "\n",
        "# Once all columns have compatible data types, proceed with SMOTE\n"
      ]
    },
    {
      "cell_type": "code",
      "execution_count": 18,
      "metadata": {
        "colab": {
          "base_uri": "https://localhost:8080/"
        },
        "id": "FezuwEvoh6ZY",
        "outputId": "ce8db203-fbb3-49a0-e131-a6dbe1c2f468"
      },
      "outputs": [
        {
          "name": "stdout",
          "output_type": "stream",
          "text": [
            "Index(['type of crime', 'Factors Contributing to Crime', 'location',\n",
            "       'time of occurrence', 'year', 'month', 'day', 'hour', 'minute'],\n",
            "      dtype='object')\n"
          ]
        }
      ],
      "source": [
        "# Print the column names of the DataFrame\n",
        "print(df.columns)\n"
      ]
    },
    {
      "cell_type": "code",
      "execution_count": 19,
      "metadata": {
        "colab": {
          "base_uri": "https://localhost:8080/",
          "height": 74
        },
        "id": "Yt3Dm-fgY72G",
        "outputId": "a10c055a-c966-4e90-8145-d38d5d3fa9e2"
      },
      "outputs": [
        {
          "data": {
            "text/html": [
              "<style>#sk-container-id-1 {color: black;background-color: white;}#sk-container-id-1 pre{padding: 0;}#sk-container-id-1 div.sk-toggleable {background-color: white;}#sk-container-id-1 label.sk-toggleable__label {cursor: pointer;display: block;width: 100%;margin-bottom: 0;padding: 0.3em;box-sizing: border-box;text-align: center;}#sk-container-id-1 label.sk-toggleable__label-arrow:before {content: \"▸\";float: left;margin-right: 0.25em;color: #696969;}#sk-container-id-1 label.sk-toggleable__label-arrow:hover:before {color: black;}#sk-container-id-1 div.sk-estimator:hover label.sk-toggleable__label-arrow:before {color: black;}#sk-container-id-1 div.sk-toggleable__content {max-height: 0;max-width: 0;overflow: hidden;text-align: left;background-color: #f0f8ff;}#sk-container-id-1 div.sk-toggleable__content pre {margin: 0.2em;color: black;border-radius: 0.25em;background-color: #f0f8ff;}#sk-container-id-1 input.sk-toggleable__control:checked~div.sk-toggleable__content {max-height: 200px;max-width: 100%;overflow: auto;}#sk-container-id-1 input.sk-toggleable__control:checked~label.sk-toggleable__label-arrow:before {content: \"▾\";}#sk-container-id-1 div.sk-estimator input.sk-toggleable__control:checked~label.sk-toggleable__label {background-color: #d4ebff;}#sk-container-id-1 div.sk-label input.sk-toggleable__control:checked~label.sk-toggleable__label {background-color: #d4ebff;}#sk-container-id-1 input.sk-hidden--visually {border: 0;clip: rect(1px 1px 1px 1px);clip: rect(1px, 1px, 1px, 1px);height: 1px;margin: -1px;overflow: hidden;padding: 0;position: absolute;width: 1px;}#sk-container-id-1 div.sk-estimator {font-family: monospace;background-color: #f0f8ff;border: 1px dotted black;border-radius: 0.25em;box-sizing: border-box;margin-bottom: 0.5em;}#sk-container-id-1 div.sk-estimator:hover {background-color: #d4ebff;}#sk-container-id-1 div.sk-parallel-item::after {content: \"\";width: 100%;border-bottom: 1px solid gray;flex-grow: 1;}#sk-container-id-1 div.sk-label:hover label.sk-toggleable__label {background-color: #d4ebff;}#sk-container-id-1 div.sk-serial::before {content: \"\";position: absolute;border-left: 1px solid gray;box-sizing: border-box;top: 0;bottom: 0;left: 50%;z-index: 0;}#sk-container-id-1 div.sk-serial {display: flex;flex-direction: column;align-items: center;background-color: white;padding-right: 0.2em;padding-left: 0.2em;position: relative;}#sk-container-id-1 div.sk-item {position: relative;z-index: 1;}#sk-container-id-1 div.sk-parallel {display: flex;align-items: stretch;justify-content: center;background-color: white;position: relative;}#sk-container-id-1 div.sk-item::before, #sk-container-id-1 div.sk-parallel-item::before {content: \"\";position: absolute;border-left: 1px solid gray;box-sizing: border-box;top: 0;bottom: 0;left: 50%;z-index: -1;}#sk-container-id-1 div.sk-parallel-item {display: flex;flex-direction: column;z-index: 1;position: relative;background-color: white;}#sk-container-id-1 div.sk-parallel-item:first-child::after {align-self: flex-end;width: 50%;}#sk-container-id-1 div.sk-parallel-item:last-child::after {align-self: flex-start;width: 50%;}#sk-container-id-1 div.sk-parallel-item:only-child::after {width: 0;}#sk-container-id-1 div.sk-dashed-wrapped {border: 1px dashed gray;margin: 0 0.4em 0.5em 0.4em;box-sizing: border-box;padding-bottom: 0.4em;background-color: white;}#sk-container-id-1 div.sk-label label {font-family: monospace;font-weight: bold;display: inline-block;line-height: 1.2em;}#sk-container-id-1 div.sk-label-container {text-align: center;}#sk-container-id-1 div.sk-container {/* jupyter's `normalize.less` sets `[hidden] { display: none; }` but bootstrap.min.css set `[hidden] { display: none !important; }` so we also need the `!important` here to be able to override the default hidden behavior on the sphinx rendered scikit-learn.org. See: https://github.com/scikit-learn/scikit-learn/issues/21755 */display: inline-block !important;position: relative;}#sk-container-id-1 div.sk-text-repr-fallback {display: none;}</style><div id=\"sk-container-id-1\" class=\"sk-top-container\"><div class=\"sk-text-repr-fallback\"><pre>RandomForestClassifier(n_estimators=1000, random_state=42)</pre><b>In a Jupyter environment, please rerun this cell to show the HTML representation or trust the notebook. <br />On GitHub, the HTML representation is unable to render, please try loading this page with nbviewer.org.</b></div><div class=\"sk-container\" hidden><div class=\"sk-item\"><div class=\"sk-estimator sk-toggleable\"><input class=\"sk-toggleable__control sk-hidden--visually\" id=\"sk-estimator-id-1\" type=\"checkbox\" checked><label for=\"sk-estimator-id-1\" class=\"sk-toggleable__label sk-toggleable__label-arrow\">RandomForestClassifier</label><div class=\"sk-toggleable__content\"><pre>RandomForestClassifier(n_estimators=1000, random_state=42)</pre></div></div></div></div></div>"
            ],
            "text/plain": [
              "RandomForestClassifier(n_estimators=1000, random_state=42)"
            ]
          },
          "execution_count": 19,
          "metadata": {},
          "output_type": "execute_result"
        }
      ],
      "source": [
        "# Initialize LabelEncoder for the target variable\n",
        "label_encoder = LabelEncoder()\n",
        "\n",
        "# Convert the target variable to numerical\n",
        "y_train = label_encoder.fit_transform(y_train)\n",
        "\n",
        "# Train Random Forest Classifier\n",
        "classifier = RandomForestClassifier(n_estimators=1000, random_state=42)\n",
        "classifier.fit(X_train, y_train)"
      ]
    },
    {
      "cell_type": "code",
      "execution_count": 20,
      "metadata": {
        "colab": {
          "base_uri": "https://localhost:8080/"
        },
        "id": "CcLKcp_ddX88",
        "outputId": "ade2d561-e7fc-4cb0-9a63-3598bf349ab1"
      },
      "outputs": [
        {
          "name": "stdout",
          "output_type": "stream",
          "text": [
            "Class Counts:\n",
            "type of crime\n",
            "0     6\n",
            "1     6\n",
            "8     6\n",
            "9     6\n",
            "2     5\n",
            "3     5\n",
            "6     5\n",
            "7     5\n",
            "10    5\n",
            "4     4\n",
            "5     1\n",
            "11    1\n",
            "Name: count, dtype: int64\n"
          ]
        }
      ],
      "source": [
        "# Count occurrences of each class in the target variable\n",
        "class_counts = df['type of crime'].value_counts()\n",
        "\n",
        "# Print class counts\n",
        "print(\"Class Counts:\")\n",
        "print(class_counts)\n"
      ]
    },
    {
      "cell_type": "code",
      "execution_count": 21,
      "metadata": {
        "id": "2pYa8wzRZXcH"
      },
      "outputs": [],
      "source": [
        "import pandas as pd\n",
        "\n",
        "# Convert NumPy arrays to pandas Series\n",
        "y_train_series = pd.Series(y_train)\n",
        "y_test_series = pd.Series(y_test)\n",
        "\n",
        "# Concatenate training and testing data to fit the label encoder on the entire dataset\n",
        "combined_target = pd.concat([y_train_series, y_test_series])\n",
        "\n",
        "# Initialize LabelEncoder for the target variable\n",
        "label_encoder = LabelEncoder()\n",
        "\n",
        "# Fit the label encoder on the combined target variable\n",
        "label_encoder.fit(combined_target)\n",
        "\n",
        "# Convert the target variable to numerical using the fitted label encoder\n",
        "y_test_encoded = label_encoder.transform(y_test)\n"
      ]
    },
    {
      "cell_type": "code",
      "execution_count": 22,
      "metadata": {
        "id": "aYTE4ekXZIOA"
      },
      "outputs": [
        {
          "ename": "ValueError",
          "evalue": "The feature names should match those that were passed during fit.\nFeature names unseen at fit time:\n- time of occurrence\nFeature names seen at fit time, yet now missing:\n- day\n- hour\n- minute\n- month\n- year\n",
          "output_type": "error",
          "traceback": [
            "\u001b[1;31m---------------------------------------------------------------------------\u001b[0m",
            "\u001b[1;31mValueError\u001b[0m                                Traceback (most recent call last)",
            "Cell \u001b[1;32mIn[22], line 2\u001b[0m\n\u001b[0;32m      1\u001b[0m \u001b[38;5;66;03m# Predict on testing set\u001b[39;00m\n\u001b[1;32m----> 2\u001b[0m y_pred \u001b[38;5;241m=\u001b[39m \u001b[43mclassifier\u001b[49m\u001b[38;5;241;43m.\u001b[39;49m\u001b[43mpredict\u001b[49m\u001b[43m(\u001b[49m\u001b[43mX_test\u001b[49m\u001b[43m)\u001b[49m\n",
            "File \u001b[1;32mc:\\Users\\USER\\AppData\\Local\\Programs\\Python\\Python311\\Lib\\site-packages\\sklearn\\ensemble\\_forest.py:820\u001b[0m, in \u001b[0;36mForestClassifier.predict\u001b[1;34m(self, X)\u001b[0m\n\u001b[0;32m    799\u001b[0m \u001b[38;5;28;01mdef\u001b[39;00m \u001b[38;5;21mpredict\u001b[39m(\u001b[38;5;28mself\u001b[39m, X):\n\u001b[0;32m    800\u001b[0m \u001b[38;5;250m    \u001b[39m\u001b[38;5;124;03m\"\"\"\u001b[39;00m\n\u001b[0;32m    801\u001b[0m \u001b[38;5;124;03m    Predict class for X.\u001b[39;00m\n\u001b[0;32m    802\u001b[0m \n\u001b[1;32m   (...)\u001b[0m\n\u001b[0;32m    818\u001b[0m \u001b[38;5;124;03m        The predicted classes.\u001b[39;00m\n\u001b[0;32m    819\u001b[0m \u001b[38;5;124;03m    \"\"\"\u001b[39;00m\n\u001b[1;32m--> 820\u001b[0m     proba \u001b[38;5;241m=\u001b[39m \u001b[38;5;28;43mself\u001b[39;49m\u001b[38;5;241;43m.\u001b[39;49m\u001b[43mpredict_proba\u001b[49m\u001b[43m(\u001b[49m\u001b[43mX\u001b[49m\u001b[43m)\u001b[49m\n\u001b[0;32m    822\u001b[0m     \u001b[38;5;28;01mif\u001b[39;00m \u001b[38;5;28mself\u001b[39m\u001b[38;5;241m.\u001b[39mn_outputs_ \u001b[38;5;241m==\u001b[39m \u001b[38;5;241m1\u001b[39m:\n\u001b[0;32m    823\u001b[0m         \u001b[38;5;28;01mreturn\u001b[39;00m \u001b[38;5;28mself\u001b[39m\u001b[38;5;241m.\u001b[39mclasses_\u001b[38;5;241m.\u001b[39mtake(np\u001b[38;5;241m.\u001b[39margmax(proba, axis\u001b[38;5;241m=\u001b[39m\u001b[38;5;241m1\u001b[39m), axis\u001b[38;5;241m=\u001b[39m\u001b[38;5;241m0\u001b[39m)\n",
            "File \u001b[1;32mc:\\Users\\USER\\AppData\\Local\\Programs\\Python\\Python311\\Lib\\site-packages\\sklearn\\ensemble\\_forest.py:862\u001b[0m, in \u001b[0;36mForestClassifier.predict_proba\u001b[1;34m(self, X)\u001b[0m\n\u001b[0;32m    860\u001b[0m check_is_fitted(\u001b[38;5;28mself\u001b[39m)\n\u001b[0;32m    861\u001b[0m \u001b[38;5;66;03m# Check data\u001b[39;00m\n\u001b[1;32m--> 862\u001b[0m X \u001b[38;5;241m=\u001b[39m \u001b[38;5;28;43mself\u001b[39;49m\u001b[38;5;241;43m.\u001b[39;49m\u001b[43m_validate_X_predict\u001b[49m\u001b[43m(\u001b[49m\u001b[43mX\u001b[49m\u001b[43m)\u001b[49m\n\u001b[0;32m    864\u001b[0m \u001b[38;5;66;03m# Assign chunk of trees to jobs\u001b[39;00m\n\u001b[0;32m    865\u001b[0m n_jobs, _, _ \u001b[38;5;241m=\u001b[39m _partition_estimators(\u001b[38;5;28mself\u001b[39m\u001b[38;5;241m.\u001b[39mn_estimators, \u001b[38;5;28mself\u001b[39m\u001b[38;5;241m.\u001b[39mn_jobs)\n",
            "File \u001b[1;32mc:\\Users\\USER\\AppData\\Local\\Programs\\Python\\Python311\\Lib\\site-packages\\sklearn\\ensemble\\_forest.py:602\u001b[0m, in \u001b[0;36mBaseForest._validate_X_predict\u001b[1;34m(self, X)\u001b[0m\n\u001b[0;32m    599\u001b[0m \u001b[38;5;250m\u001b[39m\u001b[38;5;124;03m\"\"\"\u001b[39;00m\n\u001b[0;32m    600\u001b[0m \u001b[38;5;124;03mValidate X whenever one tries to predict, apply, predict_proba.\"\"\"\u001b[39;00m\n\u001b[0;32m    601\u001b[0m check_is_fitted(\u001b[38;5;28mself\u001b[39m)\n\u001b[1;32m--> 602\u001b[0m X \u001b[38;5;241m=\u001b[39m \u001b[38;5;28;43mself\u001b[39;49m\u001b[38;5;241;43m.\u001b[39;49m\u001b[43m_validate_data\u001b[49m\u001b[43m(\u001b[49m\u001b[43mX\u001b[49m\u001b[43m,\u001b[49m\u001b[43m \u001b[49m\u001b[43mdtype\u001b[49m\u001b[38;5;241;43m=\u001b[39;49m\u001b[43mDTYPE\u001b[49m\u001b[43m,\u001b[49m\u001b[43m \u001b[49m\u001b[43maccept_sparse\u001b[49m\u001b[38;5;241;43m=\u001b[39;49m\u001b[38;5;124;43m\"\u001b[39;49m\u001b[38;5;124;43mcsr\u001b[39;49m\u001b[38;5;124;43m\"\u001b[39;49m\u001b[43m,\u001b[49m\u001b[43m \u001b[49m\u001b[43mreset\u001b[49m\u001b[38;5;241;43m=\u001b[39;49m\u001b[38;5;28;43;01mFalse\u001b[39;49;00m\u001b[43m)\u001b[49m\n\u001b[0;32m    603\u001b[0m \u001b[38;5;28;01mif\u001b[39;00m issparse(X) \u001b[38;5;129;01mand\u001b[39;00m (X\u001b[38;5;241m.\u001b[39mindices\u001b[38;5;241m.\u001b[39mdtype \u001b[38;5;241m!=\u001b[39m np\u001b[38;5;241m.\u001b[39mintc \u001b[38;5;129;01mor\u001b[39;00m X\u001b[38;5;241m.\u001b[39mindptr\u001b[38;5;241m.\u001b[39mdtype \u001b[38;5;241m!=\u001b[39m np\u001b[38;5;241m.\u001b[39mintc):\n\u001b[0;32m    604\u001b[0m     \u001b[38;5;28;01mraise\u001b[39;00m \u001b[38;5;167;01mValueError\u001b[39;00m(\u001b[38;5;124m\"\u001b[39m\u001b[38;5;124mNo support for np.int64 index based sparse matrices\u001b[39m\u001b[38;5;124m\"\u001b[39m)\n",
            "File \u001b[1;32mc:\\Users\\USER\\AppData\\Local\\Programs\\Python\\Python311\\Lib\\site-packages\\sklearn\\base.py:548\u001b[0m, in \u001b[0;36mBaseEstimator._validate_data\u001b[1;34m(self, X, y, reset, validate_separately, **check_params)\u001b[0m\n\u001b[0;32m    483\u001b[0m \u001b[38;5;28;01mdef\u001b[39;00m \u001b[38;5;21m_validate_data\u001b[39m(\n\u001b[0;32m    484\u001b[0m     \u001b[38;5;28mself\u001b[39m,\n\u001b[0;32m    485\u001b[0m     X\u001b[38;5;241m=\u001b[39m\u001b[38;5;124m\"\u001b[39m\u001b[38;5;124mno_validation\u001b[39m\u001b[38;5;124m\"\u001b[39m,\n\u001b[1;32m   (...)\u001b[0m\n\u001b[0;32m    489\u001b[0m     \u001b[38;5;241m*\u001b[39m\u001b[38;5;241m*\u001b[39mcheck_params,\n\u001b[0;32m    490\u001b[0m ):\n\u001b[0;32m    491\u001b[0m \u001b[38;5;250m    \u001b[39m\u001b[38;5;124;03m\"\"\"Validate input data and set or check the `n_features_in_` attribute.\u001b[39;00m\n\u001b[0;32m    492\u001b[0m \n\u001b[0;32m    493\u001b[0m \u001b[38;5;124;03m    Parameters\u001b[39;00m\n\u001b[1;32m   (...)\u001b[0m\n\u001b[0;32m    546\u001b[0m \u001b[38;5;124;03m        validated.\u001b[39;00m\n\u001b[0;32m    547\u001b[0m \u001b[38;5;124;03m    \"\"\"\u001b[39;00m\n\u001b[1;32m--> 548\u001b[0m     \u001b[38;5;28;43mself\u001b[39;49m\u001b[38;5;241;43m.\u001b[39;49m\u001b[43m_check_feature_names\u001b[49m\u001b[43m(\u001b[49m\u001b[43mX\u001b[49m\u001b[43m,\u001b[49m\u001b[43m \u001b[49m\u001b[43mreset\u001b[49m\u001b[38;5;241;43m=\u001b[39;49m\u001b[43mreset\u001b[49m\u001b[43m)\u001b[49m\n\u001b[0;32m    550\u001b[0m     \u001b[38;5;28;01mif\u001b[39;00m y \u001b[38;5;129;01mis\u001b[39;00m \u001b[38;5;28;01mNone\u001b[39;00m \u001b[38;5;129;01mand\u001b[39;00m \u001b[38;5;28mself\u001b[39m\u001b[38;5;241m.\u001b[39m_get_tags()[\u001b[38;5;124m\"\u001b[39m\u001b[38;5;124mrequires_y\u001b[39m\u001b[38;5;124m\"\u001b[39m]:\n\u001b[0;32m    551\u001b[0m         \u001b[38;5;28;01mraise\u001b[39;00m \u001b[38;5;167;01mValueError\u001b[39;00m(\n\u001b[0;32m    552\u001b[0m             \u001b[38;5;124mf\u001b[39m\u001b[38;5;124m\"\u001b[39m\u001b[38;5;124mThis \u001b[39m\u001b[38;5;132;01m{\u001b[39;00m\u001b[38;5;28mself\u001b[39m\u001b[38;5;241m.\u001b[39m\u001b[38;5;18m__class__\u001b[39m\u001b[38;5;241m.\u001b[39m\u001b[38;5;18m__name__\u001b[39m\u001b[38;5;132;01m}\u001b[39;00m\u001b[38;5;124m estimator \u001b[39m\u001b[38;5;124m\"\u001b[39m\n\u001b[0;32m    553\u001b[0m             \u001b[38;5;124m\"\u001b[39m\u001b[38;5;124mrequires y to be passed, but the target y is None.\u001b[39m\u001b[38;5;124m\"\u001b[39m\n\u001b[0;32m    554\u001b[0m         )\n",
            "File \u001b[1;32mc:\\Users\\USER\\AppData\\Local\\Programs\\Python\\Python311\\Lib\\site-packages\\sklearn\\base.py:481\u001b[0m, in \u001b[0;36mBaseEstimator._check_feature_names\u001b[1;34m(self, X, reset)\u001b[0m\n\u001b[0;32m    476\u001b[0m \u001b[38;5;28;01mif\u001b[39;00m \u001b[38;5;129;01mnot\u001b[39;00m missing_names \u001b[38;5;129;01mand\u001b[39;00m \u001b[38;5;129;01mnot\u001b[39;00m unexpected_names:\n\u001b[0;32m    477\u001b[0m     message \u001b[38;5;241m+\u001b[39m\u001b[38;5;241m=\u001b[39m (\n\u001b[0;32m    478\u001b[0m         \u001b[38;5;124m\"\u001b[39m\u001b[38;5;124mFeature names must be in the same order as they were in fit.\u001b[39m\u001b[38;5;130;01m\\n\u001b[39;00m\u001b[38;5;124m\"\u001b[39m\n\u001b[0;32m    479\u001b[0m     )\n\u001b[1;32m--> 481\u001b[0m \u001b[38;5;28;01mraise\u001b[39;00m \u001b[38;5;167;01mValueError\u001b[39;00m(message)\n",
            "\u001b[1;31mValueError\u001b[0m: The feature names should match those that were passed during fit.\nFeature names unseen at fit time:\n- time of occurrence\nFeature names seen at fit time, yet now missing:\n- day\n- hour\n- minute\n- month\n- year\n"
          ]
        }
      ],
      "source": [
        "# Predict on testing set\n",
        "y_pred = classifier.predict(X_test)"
      ]
    },
    {
      "cell_type": "code",
      "execution_count": 23,
      "metadata": {
        "colab": {
          "base_uri": "https://localhost:8080/"
        },
        "id": "JQt2Hr-dabeX",
        "outputId": "13b44c65-ec91-499d-ce81-65a4e6af9e54"
      },
      "outputs": [
        {
          "ename": "ValueError",
          "evalue": "The feature names should match those that were passed during fit.\nFeature names unseen at fit time:\n- time of occurrence\nFeature names seen at fit time, yet now missing:\n- day\n- hour\n- minute\n- month\n- year\n",
          "output_type": "error",
          "traceback": [
            "\u001b[1;31m---------------------------------------------------------------------------\u001b[0m",
            "\u001b[1;31mValueError\u001b[0m                                Traceback (most recent call last)",
            "Cell \u001b[1;32mIn[23], line 2\u001b[0m\n\u001b[0;32m      1\u001b[0m \u001b[38;5;66;03m# Predict on testing set\u001b[39;00m\n\u001b[1;32m----> 2\u001b[0m y_pred \u001b[38;5;241m=\u001b[39m \u001b[43mclassifier\u001b[49m\u001b[38;5;241;43m.\u001b[39;49m\u001b[43mpredict\u001b[49m\u001b[43m(\u001b[49m\u001b[43mX_test\u001b[49m\u001b[43m)\u001b[49m\n\u001b[0;32m      4\u001b[0m \u001b[38;5;66;03m# Convert numerical predictions back to original labels\u001b[39;00m\n\u001b[0;32m      5\u001b[0m y_pred_original \u001b[38;5;241m=\u001b[39m label_encoder\u001b[38;5;241m.\u001b[39minverse_transform(y_pred)\n",
            "File \u001b[1;32mc:\\Users\\USER\\AppData\\Local\\Programs\\Python\\Python311\\Lib\\site-packages\\sklearn\\ensemble\\_forest.py:820\u001b[0m, in \u001b[0;36mForestClassifier.predict\u001b[1;34m(self, X)\u001b[0m\n\u001b[0;32m    799\u001b[0m \u001b[38;5;28;01mdef\u001b[39;00m \u001b[38;5;21mpredict\u001b[39m(\u001b[38;5;28mself\u001b[39m, X):\n\u001b[0;32m    800\u001b[0m \u001b[38;5;250m    \u001b[39m\u001b[38;5;124;03m\"\"\"\u001b[39;00m\n\u001b[0;32m    801\u001b[0m \u001b[38;5;124;03m    Predict class for X.\u001b[39;00m\n\u001b[0;32m    802\u001b[0m \n\u001b[1;32m   (...)\u001b[0m\n\u001b[0;32m    818\u001b[0m \u001b[38;5;124;03m        The predicted classes.\u001b[39;00m\n\u001b[0;32m    819\u001b[0m \u001b[38;5;124;03m    \"\"\"\u001b[39;00m\n\u001b[1;32m--> 820\u001b[0m     proba \u001b[38;5;241m=\u001b[39m \u001b[38;5;28;43mself\u001b[39;49m\u001b[38;5;241;43m.\u001b[39;49m\u001b[43mpredict_proba\u001b[49m\u001b[43m(\u001b[49m\u001b[43mX\u001b[49m\u001b[43m)\u001b[49m\n\u001b[0;32m    822\u001b[0m     \u001b[38;5;28;01mif\u001b[39;00m \u001b[38;5;28mself\u001b[39m\u001b[38;5;241m.\u001b[39mn_outputs_ \u001b[38;5;241m==\u001b[39m \u001b[38;5;241m1\u001b[39m:\n\u001b[0;32m    823\u001b[0m         \u001b[38;5;28;01mreturn\u001b[39;00m \u001b[38;5;28mself\u001b[39m\u001b[38;5;241m.\u001b[39mclasses_\u001b[38;5;241m.\u001b[39mtake(np\u001b[38;5;241m.\u001b[39margmax(proba, axis\u001b[38;5;241m=\u001b[39m\u001b[38;5;241m1\u001b[39m), axis\u001b[38;5;241m=\u001b[39m\u001b[38;5;241m0\u001b[39m)\n",
            "File \u001b[1;32mc:\\Users\\USER\\AppData\\Local\\Programs\\Python\\Python311\\Lib\\site-packages\\sklearn\\ensemble\\_forest.py:862\u001b[0m, in \u001b[0;36mForestClassifier.predict_proba\u001b[1;34m(self, X)\u001b[0m\n\u001b[0;32m    860\u001b[0m check_is_fitted(\u001b[38;5;28mself\u001b[39m)\n\u001b[0;32m    861\u001b[0m \u001b[38;5;66;03m# Check data\u001b[39;00m\n\u001b[1;32m--> 862\u001b[0m X \u001b[38;5;241m=\u001b[39m \u001b[38;5;28;43mself\u001b[39;49m\u001b[38;5;241;43m.\u001b[39;49m\u001b[43m_validate_X_predict\u001b[49m\u001b[43m(\u001b[49m\u001b[43mX\u001b[49m\u001b[43m)\u001b[49m\n\u001b[0;32m    864\u001b[0m \u001b[38;5;66;03m# Assign chunk of trees to jobs\u001b[39;00m\n\u001b[0;32m    865\u001b[0m n_jobs, _, _ \u001b[38;5;241m=\u001b[39m _partition_estimators(\u001b[38;5;28mself\u001b[39m\u001b[38;5;241m.\u001b[39mn_estimators, \u001b[38;5;28mself\u001b[39m\u001b[38;5;241m.\u001b[39mn_jobs)\n",
            "File \u001b[1;32mc:\\Users\\USER\\AppData\\Local\\Programs\\Python\\Python311\\Lib\\site-packages\\sklearn\\ensemble\\_forest.py:602\u001b[0m, in \u001b[0;36mBaseForest._validate_X_predict\u001b[1;34m(self, X)\u001b[0m\n\u001b[0;32m    599\u001b[0m \u001b[38;5;250m\u001b[39m\u001b[38;5;124;03m\"\"\"\u001b[39;00m\n\u001b[0;32m    600\u001b[0m \u001b[38;5;124;03mValidate X whenever one tries to predict, apply, predict_proba.\"\"\"\u001b[39;00m\n\u001b[0;32m    601\u001b[0m check_is_fitted(\u001b[38;5;28mself\u001b[39m)\n\u001b[1;32m--> 602\u001b[0m X \u001b[38;5;241m=\u001b[39m \u001b[38;5;28;43mself\u001b[39;49m\u001b[38;5;241;43m.\u001b[39;49m\u001b[43m_validate_data\u001b[49m\u001b[43m(\u001b[49m\u001b[43mX\u001b[49m\u001b[43m,\u001b[49m\u001b[43m \u001b[49m\u001b[43mdtype\u001b[49m\u001b[38;5;241;43m=\u001b[39;49m\u001b[43mDTYPE\u001b[49m\u001b[43m,\u001b[49m\u001b[43m \u001b[49m\u001b[43maccept_sparse\u001b[49m\u001b[38;5;241;43m=\u001b[39;49m\u001b[38;5;124;43m\"\u001b[39;49m\u001b[38;5;124;43mcsr\u001b[39;49m\u001b[38;5;124;43m\"\u001b[39;49m\u001b[43m,\u001b[49m\u001b[43m \u001b[49m\u001b[43mreset\u001b[49m\u001b[38;5;241;43m=\u001b[39;49m\u001b[38;5;28;43;01mFalse\u001b[39;49;00m\u001b[43m)\u001b[49m\n\u001b[0;32m    603\u001b[0m \u001b[38;5;28;01mif\u001b[39;00m issparse(X) \u001b[38;5;129;01mand\u001b[39;00m (X\u001b[38;5;241m.\u001b[39mindices\u001b[38;5;241m.\u001b[39mdtype \u001b[38;5;241m!=\u001b[39m np\u001b[38;5;241m.\u001b[39mintc \u001b[38;5;129;01mor\u001b[39;00m X\u001b[38;5;241m.\u001b[39mindptr\u001b[38;5;241m.\u001b[39mdtype \u001b[38;5;241m!=\u001b[39m np\u001b[38;5;241m.\u001b[39mintc):\n\u001b[0;32m    604\u001b[0m     \u001b[38;5;28;01mraise\u001b[39;00m \u001b[38;5;167;01mValueError\u001b[39;00m(\u001b[38;5;124m\"\u001b[39m\u001b[38;5;124mNo support for np.int64 index based sparse matrices\u001b[39m\u001b[38;5;124m\"\u001b[39m)\n",
            "File \u001b[1;32mc:\\Users\\USER\\AppData\\Local\\Programs\\Python\\Python311\\Lib\\site-packages\\sklearn\\base.py:548\u001b[0m, in \u001b[0;36mBaseEstimator._validate_data\u001b[1;34m(self, X, y, reset, validate_separately, **check_params)\u001b[0m\n\u001b[0;32m    483\u001b[0m \u001b[38;5;28;01mdef\u001b[39;00m \u001b[38;5;21m_validate_data\u001b[39m(\n\u001b[0;32m    484\u001b[0m     \u001b[38;5;28mself\u001b[39m,\n\u001b[0;32m    485\u001b[0m     X\u001b[38;5;241m=\u001b[39m\u001b[38;5;124m\"\u001b[39m\u001b[38;5;124mno_validation\u001b[39m\u001b[38;5;124m\"\u001b[39m,\n\u001b[1;32m   (...)\u001b[0m\n\u001b[0;32m    489\u001b[0m     \u001b[38;5;241m*\u001b[39m\u001b[38;5;241m*\u001b[39mcheck_params,\n\u001b[0;32m    490\u001b[0m ):\n\u001b[0;32m    491\u001b[0m \u001b[38;5;250m    \u001b[39m\u001b[38;5;124;03m\"\"\"Validate input data and set or check the `n_features_in_` attribute.\u001b[39;00m\n\u001b[0;32m    492\u001b[0m \n\u001b[0;32m    493\u001b[0m \u001b[38;5;124;03m    Parameters\u001b[39;00m\n\u001b[1;32m   (...)\u001b[0m\n\u001b[0;32m    546\u001b[0m \u001b[38;5;124;03m        validated.\u001b[39;00m\n\u001b[0;32m    547\u001b[0m \u001b[38;5;124;03m    \"\"\"\u001b[39;00m\n\u001b[1;32m--> 548\u001b[0m     \u001b[38;5;28;43mself\u001b[39;49m\u001b[38;5;241;43m.\u001b[39;49m\u001b[43m_check_feature_names\u001b[49m\u001b[43m(\u001b[49m\u001b[43mX\u001b[49m\u001b[43m,\u001b[49m\u001b[43m \u001b[49m\u001b[43mreset\u001b[49m\u001b[38;5;241;43m=\u001b[39;49m\u001b[43mreset\u001b[49m\u001b[43m)\u001b[49m\n\u001b[0;32m    550\u001b[0m     \u001b[38;5;28;01mif\u001b[39;00m y \u001b[38;5;129;01mis\u001b[39;00m \u001b[38;5;28;01mNone\u001b[39;00m \u001b[38;5;129;01mand\u001b[39;00m \u001b[38;5;28mself\u001b[39m\u001b[38;5;241m.\u001b[39m_get_tags()[\u001b[38;5;124m\"\u001b[39m\u001b[38;5;124mrequires_y\u001b[39m\u001b[38;5;124m\"\u001b[39m]:\n\u001b[0;32m    551\u001b[0m         \u001b[38;5;28;01mraise\u001b[39;00m \u001b[38;5;167;01mValueError\u001b[39;00m(\n\u001b[0;32m    552\u001b[0m             \u001b[38;5;124mf\u001b[39m\u001b[38;5;124m\"\u001b[39m\u001b[38;5;124mThis \u001b[39m\u001b[38;5;132;01m{\u001b[39;00m\u001b[38;5;28mself\u001b[39m\u001b[38;5;241m.\u001b[39m\u001b[38;5;18m__class__\u001b[39m\u001b[38;5;241m.\u001b[39m\u001b[38;5;18m__name__\u001b[39m\u001b[38;5;132;01m}\u001b[39;00m\u001b[38;5;124m estimator \u001b[39m\u001b[38;5;124m\"\u001b[39m\n\u001b[0;32m    553\u001b[0m             \u001b[38;5;124m\"\u001b[39m\u001b[38;5;124mrequires y to be passed, but the target y is None.\u001b[39m\u001b[38;5;124m\"\u001b[39m\n\u001b[0;32m    554\u001b[0m         )\n",
            "File \u001b[1;32mc:\\Users\\USER\\AppData\\Local\\Programs\\Python\\Python311\\Lib\\site-packages\\sklearn\\base.py:481\u001b[0m, in \u001b[0;36mBaseEstimator._check_feature_names\u001b[1;34m(self, X, reset)\u001b[0m\n\u001b[0;32m    476\u001b[0m \u001b[38;5;28;01mif\u001b[39;00m \u001b[38;5;129;01mnot\u001b[39;00m missing_names \u001b[38;5;129;01mand\u001b[39;00m \u001b[38;5;129;01mnot\u001b[39;00m unexpected_names:\n\u001b[0;32m    477\u001b[0m     message \u001b[38;5;241m+\u001b[39m\u001b[38;5;241m=\u001b[39m (\n\u001b[0;32m    478\u001b[0m         \u001b[38;5;124m\"\u001b[39m\u001b[38;5;124mFeature names must be in the same order as they were in fit.\u001b[39m\u001b[38;5;130;01m\\n\u001b[39;00m\u001b[38;5;124m\"\u001b[39m\n\u001b[0;32m    479\u001b[0m     )\n\u001b[1;32m--> 481\u001b[0m \u001b[38;5;28;01mraise\u001b[39;00m \u001b[38;5;167;01mValueError\u001b[39;00m(message)\n",
            "\u001b[1;31mValueError\u001b[0m: The feature names should match those that were passed during fit.\nFeature names unseen at fit time:\n- time of occurrence\nFeature names seen at fit time, yet now missing:\n- day\n- hour\n- minute\n- month\n- year\n"
          ]
        }
      ],
      "source": [
        "# Predict on testing set\n",
        "y_pred = classifier.predict(X_test)\n",
        "\n",
        "# Convert numerical predictions back to original labels\n",
        "y_pred_original = label_encoder.inverse_transform(y_pred)\n",
        "\n",
        "# Print predictions\n",
        "print(\"Predictions:\")\n",
        "print(y_pred_original)\n"
      ]
    },
    {
      "cell_type": "code",
      "execution_count": null,
      "metadata": {
        "colab": {
          "base_uri": "https://localhost:8080/"
        },
        "id": "TaNvFM7za7EU",
        "outputId": "d9de11d5-5ab0-4588-fbcf-1eb4f2a4d428"
      },
      "outputs": [
        {
          "name": "stdout",
          "output_type": "stream",
          "text": [
            "Predictions:\n",
            "0\n",
            "4\n",
            "5\n",
            "1\n",
            "2\n",
            "6\n",
            "5\n",
            "3\n",
            "4\n",
            "5\n",
            "5\n"
          ]
        }
      ],
      "source": [
        "# Convert numerical predictions back to original labels\n",
        "y_pred_original = label_encoder.inverse_transform(y_pred)\n",
        "\n",
        "# Map numerical labels to original crime types\n",
        "predicted_crime_types = {label: crime_type for label, crime_type in zip(label_encoder.classes_, label_encoder.inverse_transform(label_encoder.classes_))}\n",
        "\n",
        "# Print predictions with corresponding crime types\n",
        "print(\"Predictions:\")\n",
        "for pred in y_pred_original:\n",
        "    print(predicted_crime_types[pred])\n"
      ]
    },
    {
      "cell_type": "code",
      "execution_count": null,
      "metadata": {
        "colab": {
          "base_uri": "https://localhost:8080/"
        },
        "id": "pfpS3dRUbatx",
        "outputId": "d2f4f04d-5f26-4547-88a5-c281cbd1250e"
      },
      "outputs": [
        {
          "name": "stdout",
          "output_type": "stream",
          "text": [
            "Accuracy: 0.36363636363636365\n",
            "\n",
            "Classification Report:\n",
            "              precision    recall  f1-score   support\n",
            "\n",
            "           0       1.00      0.50      0.67         2\n",
            "           1       1.00      0.50      0.67         2\n",
            "           2       1.00      0.50      0.67         2\n",
            "           3       1.00      1.00      1.00         1\n",
            "           4       0.00      0.00      0.00         0\n",
            "           5       0.00      0.00      0.00         1\n",
            "           6       0.00      0.00      0.00         0\n",
            "           8       0.00      0.00      0.00         3\n",
            "\n",
            "    accuracy                           0.36        11\n",
            "   macro avg       0.50      0.31      0.38        11\n",
            "weighted avg       0.64      0.36      0.45        11\n",
            "\n"
          ]
        },
        {
          "name": "stderr",
          "output_type": "stream",
          "text": [
            "/usr/local/lib/python3.10/dist-packages/sklearn/metrics/_classification.py:1344: UndefinedMetricWarning: Precision and F-score are ill-defined and being set to 0.0 in labels with no predicted samples. Use `zero_division` parameter to control this behavior.\n",
            "  _warn_prf(average, modifier, msg_start, len(result))\n",
            "/usr/local/lib/python3.10/dist-packages/sklearn/metrics/_classification.py:1344: UndefinedMetricWarning: Recall and F-score are ill-defined and being set to 0.0 in labels with no true samples. Use `zero_division` parameter to control this behavior.\n",
            "  _warn_prf(average, modifier, msg_start, len(result))\n",
            "/usr/local/lib/python3.10/dist-packages/sklearn/metrics/_classification.py:1344: UndefinedMetricWarning: Precision and F-score are ill-defined and being set to 0.0 in labels with no predicted samples. Use `zero_division` parameter to control this behavior.\n",
            "  _warn_prf(average, modifier, msg_start, len(result))\n",
            "/usr/local/lib/python3.10/dist-packages/sklearn/metrics/_classification.py:1344: UndefinedMetricWarning: Recall and F-score are ill-defined and being set to 0.0 in labels with no true samples. Use `zero_division` parameter to control this behavior.\n",
            "  _warn_prf(average, modifier, msg_start, len(result))\n",
            "/usr/local/lib/python3.10/dist-packages/sklearn/metrics/_classification.py:1344: UndefinedMetricWarning: Precision and F-score are ill-defined and being set to 0.0 in labels with no predicted samples. Use `zero_division` parameter to control this behavior.\n",
            "  _warn_prf(average, modifier, msg_start, len(result))\n",
            "/usr/local/lib/python3.10/dist-packages/sklearn/metrics/_classification.py:1344: UndefinedMetricWarning: Recall and F-score are ill-defined and being set to 0.0 in labels with no true samples. Use `zero_division` parameter to control this behavior.\n",
            "  _warn_prf(average, modifier, msg_start, len(result))\n"
          ]
        }
      ],
      "source": [
        "# Evaluate the model\n",
        "accuracy = accuracy_score(y_test, y_pred)\n",
        "print(\"Accuracy:\", accuracy)\n",
        "\n",
        "print(\"\\nClassification Report:\")\n",
        "print(classification_report(y_test, y_pred))"
      ]
    },
    {
      "cell_type": "code",
      "execution_count": null,
      "metadata": {
        "colab": {
          "base_uri": "https://localhost:8080/"
        },
        "id": "355HAYgkcVMY",
        "outputId": "fe811e2e-f994-4aad-c10a-905fea204fd6"
      },
      "outputs": [
        {
          "name": "stdout",
          "output_type": "stream",
          "text": [
            "\n",
            "Classification Report with zero_division='warn':\n",
            "              precision    recall  f1-score   support\n",
            "\n",
            "           0       1.00      0.50      0.67         2\n",
            "           1       1.00      0.50      0.67         2\n",
            "           2       1.00      0.50      0.67         2\n",
            "           3       1.00      1.00      1.00         1\n",
            "           4       0.00      0.00      0.00         0\n",
            "           5       0.00      0.00      0.00         1\n",
            "           6       0.00      0.00      0.00         0\n",
            "           8       0.00      0.00      0.00         3\n",
            "\n",
            "    accuracy                           0.36        11\n",
            "   macro avg       0.50      0.31      0.38        11\n",
            "weighted avg       0.64      0.36      0.45        11\n",
            "\n"
          ]
        },
        {
          "name": "stderr",
          "output_type": "stream",
          "text": [
            "/usr/local/lib/python3.10/dist-packages/sklearn/metrics/_classification.py:1344: UndefinedMetricWarning: Precision and F-score are ill-defined and being set to 0.0 in labels with no predicted samples. Use `zero_division` parameter to control this behavior.\n",
            "  _warn_prf(average, modifier, msg_start, len(result))\n",
            "/usr/local/lib/python3.10/dist-packages/sklearn/metrics/_classification.py:1344: UndefinedMetricWarning: Recall and F-score are ill-defined and being set to 0.0 in labels with no true samples. Use `zero_division` parameter to control this behavior.\n",
            "  _warn_prf(average, modifier, msg_start, len(result))\n",
            "/usr/local/lib/python3.10/dist-packages/sklearn/metrics/_classification.py:1344: UndefinedMetricWarning: Precision and F-score are ill-defined and being set to 0.0 in labels with no predicted samples. Use `zero_division` parameter to control this behavior.\n",
            "  _warn_prf(average, modifier, msg_start, len(result))\n",
            "/usr/local/lib/python3.10/dist-packages/sklearn/metrics/_classification.py:1344: UndefinedMetricWarning: Recall and F-score are ill-defined and being set to 0.0 in labels with no true samples. Use `zero_division` parameter to control this behavior.\n",
            "  _warn_prf(average, modifier, msg_start, len(result))\n",
            "/usr/local/lib/python3.10/dist-packages/sklearn/metrics/_classification.py:1344: UndefinedMetricWarning: Precision and F-score are ill-defined and being set to 0.0 in labels with no predicted samples. Use `zero_division` parameter to control this behavior.\n",
            "  _warn_prf(average, modifier, msg_start, len(result))\n",
            "/usr/local/lib/python3.10/dist-packages/sklearn/metrics/_classification.py:1344: UndefinedMetricWarning: Recall and F-score are ill-defined and being set to 0.0 in labels with no true samples. Use `zero_division` parameter to control this behavior.\n",
            "  _warn_prf(average, modifier, msg_start, len(result))\n"
          ]
        }
      ],
      "source": [
        "# Evaluate the model with zero_division='warn'\n",
        "print(\"\\nClassification Report with zero_division='warn':\")\n",
        "print(classification_report(y_test, y_pred, zero_division='warn'))\n"
      ]
    },
    {
      "cell_type": "code",
      "execution_count": null,
      "metadata": {
        "colab": {
          "base_uri": "https://localhost:8080/"
        },
        "id": "juKpSDRAdTu1",
        "outputId": "eded39e1-8eb0-4c34-f1b0-88511ae4ea47"
      },
      "outputs": [
        {
          "name": "stdout",
          "output_type": "stream",
          "text": [
            "\n",
            "Classification Report:\n",
            "              precision    recall  f1-score   support\n",
            "\n",
            "           0       1.00      0.50      0.67         2\n",
            "           1       1.00      0.50      0.67         2\n",
            "           2       1.00      0.50      0.67         2\n",
            "           3       1.00      1.00      1.00         1\n",
            "           4       0.00      0.00      0.00         0\n",
            "           5       0.00      0.00      0.00         1\n",
            "           6       0.00      0.00      0.00         0\n",
            "           8       0.00      0.00      0.00         3\n",
            "\n",
            "    accuracy                           0.36        11\n",
            "   macro avg       0.50      0.31      0.38        11\n",
            "weighted avg       0.64      0.36      0.45        11\n",
            "\n"
          ]
        },
        {
          "name": "stderr",
          "output_type": "stream",
          "text": [
            "/usr/local/lib/python3.10/dist-packages/sklearn/metrics/_classification.py:1344: UndefinedMetricWarning: Precision and F-score are ill-defined and being set to 0.0 in labels with no predicted samples. Use `zero_division` parameter to control this behavior.\n",
            "  _warn_prf(average, modifier, msg_start, len(result))\n",
            "/usr/local/lib/python3.10/dist-packages/sklearn/metrics/_classification.py:1344: UndefinedMetricWarning: Recall and F-score are ill-defined and being set to 0.0 in labels with no true samples. Use `zero_division` parameter to control this behavior.\n",
            "  _warn_prf(average, modifier, msg_start, len(result))\n",
            "/usr/local/lib/python3.10/dist-packages/sklearn/metrics/_classification.py:1344: UndefinedMetricWarning: Precision and F-score are ill-defined and being set to 0.0 in labels with no predicted samples. Use `zero_division` parameter to control this behavior.\n",
            "  _warn_prf(average, modifier, msg_start, len(result))\n",
            "/usr/local/lib/python3.10/dist-packages/sklearn/metrics/_classification.py:1344: UndefinedMetricWarning: Recall and F-score are ill-defined and being set to 0.0 in labels with no true samples. Use `zero_division` parameter to control this behavior.\n",
            "  _warn_prf(average, modifier, msg_start, len(result))\n",
            "/usr/local/lib/python3.10/dist-packages/sklearn/metrics/_classification.py:1344: UndefinedMetricWarning: Precision and F-score are ill-defined and being set to 0.0 in labels with no predicted samples. Use `zero_division` parameter to control this behavior.\n",
            "  _warn_prf(average, modifier, msg_start, len(result))\n",
            "/usr/local/lib/python3.10/dist-packages/sklearn/metrics/_classification.py:1344: UndefinedMetricWarning: Recall and F-score are ill-defined and being set to 0.0 in labels with no true samples. Use `zero_division` parameter to control this behavior.\n",
            "  _warn_prf(average, modifier, msg_start, len(result))\n"
          ]
        },
        {
          "data": {
            "text/plain": [
              "['crime_classification_model.pkl']"
            ]
          },
          "execution_count": 56,
          "metadata": {},
          "output_type": "execute_result"
        }
      ],
      "source": [
        "print(\"\\nClassification Report:\")\n",
        "print(classification_report(y_test, y_pred))\n",
        "\n",
        "# Save the model\n",
        "joblib.dump(classifier, 'crime_classification_model.pkl')\n"
      ]
    }
  ],
  "metadata": {
    "colab": {
      "provenance": []
    },
    "kernelspec": {
      "display_name": "Python 3",
      "name": "python3"
    },
    "language_info": {
      "codemirror_mode": {
        "name": "ipython",
        "version": 3
      },
      "file_extension": ".py",
      "mimetype": "text/x-python",
      "name": "python",
      "nbconvert_exporter": "python",
      "pygments_lexer": "ipython3",
      "version": "3.11.6"
    }
  },
  "nbformat": 4,
  "nbformat_minor": 0
}
